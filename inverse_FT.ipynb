{
 "cells": [
  {
   "cell_type": "code",
   "execution_count": 2,
   "metadata": {},
   "outputs": [
    {
     "data": {
      "image/png": "[encoded data removed]",
      "text/plain": [
       "<Figure size 432x288 with 1 Axes>"
      ]
     },
     "metadata": {},
     "output_type": "display_data"
    }
   ],
   "source": [
    "import numpy as np\n",
    "import matplotlib.pyplot as plt\n",
    "\n",
    "#フーリエ逆変換後のG_t\n",
    "beta=100\n",
    "t=np.arange(101)\n",
    "G_t=-np.exp(-t)/(1+np.exp(-1*beta))\n",
    "\n",
    "\n",
    "plt.plot(t, G_t, marker=\".\")\n",
    "plt.show()\n"
   ]
  },
  {
   "cell_type": "code",
   "execution_count": 2,
   "metadata": {
    "scrolled": false
   },
   "outputs": [
    {
     "data": {
      "image/png": "[encoded data removed]",
      "text/plain": [
       "<matplotlib.figure.Figure at 0x10a677978>"
      ]
     },
     "metadata": {},
     "output_type": "display_data"
    }
   ],
   "source": [
    "import numpy as np\n",
    "import matplotlib.pyplot as plt\n",
    "\n",
    "beta=100\n",
    "\n",
    "\n",
    "#逆変換後のG_t\n",
    "t=np.arange(101)\n",
    "G_t=-np.exp(-t)/(1+np.exp(-1*beta))\n",
    "\n",
    "#フーリエ級数型のG_t\n",
    "n=np.arange(-1000,1001)\n",
    "w_n=np.pi*(2*n+1)/beta\n",
    "G_t_real=np.empty(0)\n",
    "G_t_imag=np.empty(0)\n",
    "for i in range(101):\n",
    "    a=np.exp(-1J*w_n*i)/(1J*w_n-1)\n",
    "    g=np.sum(a)/beta\n",
    "    \n",
    "    G_t_real=np.append(G_t_real, g.real)\n",
    "    G_t_imag=np.append(G_t_imag, g.imag)\n",
    "\n",
    "#グラフ\n",
    "plt.plot(t, G_t, label='G_t', marker=\".\")\n",
    "plt.plot(t, G_t_real, label='G_t_real',marker=\".\")\n",
    "plt.plot(t, G_t_imag, label='G_t_imagine',marker=\".\")\n",
    "plt.legend()\n",
    "plt.show()\n",
    "\n",
    "\n",
    "    \n"
   ]
  },
  {
   "cell_type": "code",
   "execution_count": 6,
   "metadata": {},
   "outputs": [
    {
     "data": {
      "image/png": "[encoded data removed]",
      "text/plain": [
       "<matplotlib.figure.Figure at 0x10d286898>"
      ]
     },
     "metadata": {},
     "output_type": "display_data"
    }
   ],
   "source": [
    "import numpy as np\n",
    "import matplotlib.pyplot as plt\n",
    "\n",
    "beta=10\n",
    "#変換後のG_t\n",
    "t=np.arange(beta+1)\n",
    "G_t=-np.exp(-t)/(1+np.exp(-1*beta))\n",
    "\n",
    "#フーリエ級数型のG_t\n",
    "n=np.arange(-1000,1001)\n",
    "w_n=np.pi*(2*n+1)/beta\n",
    "G_t_real=np.empty(0)\n",
    "G_t_imag=np.empty(0)\n",
    "for i in range(11):\n",
    "    dg=np.exp(-1J*w_n*i)*(1/(1J*w_n-1)-1/(1J*w_n))      #2001個のnumpy配列\n",
    "    g=np.sum(dg)/beta-1/2\n",
    "    G_t_real=np.append(G_t_real, g.real)\n",
    "    G_t_imag=np.append(G_t_imag, g.imag)\n",
    "\n",
    "#グラフ\n",
    "#plt.plot(t, G_t, label='G_t', marker=\".\")\n",
    "plt.plot(t, G_t_real, label='real',marker=\".\")\n",
    "plt.plot(t, G_t_imag, label='imagine',marker=\".\")\n",
    "plt.legend()\n",
    "plt.show()\n"
   ]
  },
  {
   "cell_type": "code",
   "execution_count": null,
   "metadata": {
    "collapsed": true
   },
   "outputs": [],
   "source": []
  },
  {
   "cell_type": "code",
   "execution_count": null,
   "metadata": {
    "collapsed": true
   },
   "outputs": [],
   "source": []
  },
  {
   "cell_type": "code",
   "execution_count": null,
   "metadata": {
    "collapsed": true
   },
   "outputs": [],
   "source": []
  },
  {
   "cell_type": "code",
   "execution_count": null,
   "metadata": {
    "collapsed": true
   },
   "outputs": [],
   "source": []
  },
  {
   "cell_type": "code",
   "execution_count": null,
   "metadata": {
    "collapsed": true
   },
   "outputs": [],
   "source": []
  },
  {
   "cell_type": "code",
   "execution_count": null,
   "metadata": {
    "collapsed": true
   },
   "outputs": [],
   "source": []
  }
 ],
 "metadata": {
  "kernelspec": {
   "display_name": "Python 3",
   "language": "python",
   "name": "python3"
  },
  "language_info": {
   "codemirror_mode": {
    "name": "ipython",
    "version": 3
   },
   "file_extension": ".py",
   "mimetype": "text/x-python",
   "name": "python",
   "nbconvert_exporter": "python",
   "pygments_lexer": "ipython3",
   "version": "3.6.1"
  }
 },
 "nbformat": 4,
 "nbformat_minor": 2
}
