{
 "cells": [
  {
   "cell_type": "code",
   "execution_count": 1,
   "metadata": {},
   "outputs": [
    {
     "name": "stdout",
     "output_type": "stream",
     "text": [
      "真:1.5707963267948983(推定誤差:1.0002354500215915e-09)\n",
      "台形則:1.5707436595231425\n",
      "ガウスルジャンドル:1.5707971382833879\n",
      "二重指数型積分:1.5707963267948968\n"
     ]
    }
   ],
   "source": [
    "#半円の面積\n",
    "\n",
    "from scipy import integrate\n",
    "import numpy as np \n",
    "\n",
    "# 関数定義\n",
    "a = -1\n",
    "b =  1\n",
    "f = lambda x: np.sqrt(1-x**2)  \n",
    "\n",
    "#積分（真）\n",
    "quad, quad_err = integrate.quad(f, a, b)\n",
    "\n",
    "#積分（台形則）\n",
    "n=1000  #分点の数\n",
    "x=np.linspace(a, b, n, endpoint=True)\n",
    "F=(np.delete(f(x),0)+np.delete(f(x),n-1))*(b-a)/(2*(n-1))\n",
    "S=np.sum(F)\n",
    "\n",
    "# 積分(ガウスルジャンドル)\n",
    "n = 100     #n個の分点\n",
    "x, w = np.polynomial.legendre.leggauss(n)     #x:分点、w:重み\n",
    "gauss = (b-a)/2*sum(w * f((b-a)/2*x+(b+a)/2))\n",
    "\n",
    "# 積分(２重指数型積分)\n",
    "h=1/200\n",
    "m=np.arange(-1000,1001)\n",
    "g=np.pi/2*np.sinh(m*h)\n",
    "dDE=(b-a)/2*f((b-a)/2*np.tanh(g)+(a+b)/2)*np.cosh(m*h)/(np.cosh(g))**2 #2001個の配列\n",
    "DE=np.pi*h/2*np.sum(dDE)\n",
    "\n",
    "#積分値出力\n",
    "print(\"真:{0}(推定誤差:{1})\\n台形則:{2}\\nガウスルジャンドル:{3}\\n二重指数型積分:{4}\".format(quad,quad_err,S, gauss,DE))"
   ]
  },
  {
   "cell_type": "code",
   "execution_count": 10,
   "metadata": {},
   "outputs": [
    {
     "name": "stdout",
     "output_type": "stream",
     "text": [
      "真:11.666666666666668(推定誤差:1.295260195396016e-13)\n",
      "台形則:11.666687541729251\n",
      "ガウスルジャンドル:11.66666666666657\n",
      "二重指数型積分:11.666666666666666\n"
     ]
    }
   ],
   "source": [
    "#２次関数の積分\n",
    "\n",
    "from scipy import integrate\n",
    "import numpy as np \n",
    "\n",
    "# 関数定義\n",
    "a = -2\n",
    "b =  3\n",
    "f = lambda x: x**2 \n",
    "\n",
    "#積分（真）\n",
    "quad, quad_err = integrate.quad(f, a, b)\n",
    "\n",
    "#積分（台形則）\n",
    "n=1000  #分点の数\n",
    "x=np.linspace(a, b, n, endpoint=True)\n",
    "F=(np.delete(f(x),0)+np.delete(f(x),n-1))*(b-a)/(2*(n-1))\n",
    "S=np.sum(F)\n",
    "\n",
    "# 積分（ガウスルジャンドル）\n",
    "n = 100 #n個の分点\n",
    "x, w = np.polynomial.legendre.leggauss(n)  #x:分点、w:重み\n",
    "X=(b-a)/2*x+(b+a)/2\n",
    "gauss = (b-a)/2*sum(w * f(X))\n",
    "\n",
    "# 積分(２重指数型積分)\n",
    "h=1/20\n",
    "m=np.arange(-100,101)\n",
    "g=np.pi/2*np.sinh(m*h)\n",
    "dDE=(b-a)/2*f((b-a)/2*np.tanh(g)+(a+b)/2)*np.cosh(m*h)/(np.cosh(g))**2\n",
    "DE=np.pi*h/2*np.sum(dDE)\n",
    "\n",
    "\n",
    "#積分値出力\n",
    "print(\"真:{0}(推定誤差:{1})\\n台形則:{2}\\nガウスルジャンドル:{3}\\n二重指数型積分:{4}\".format(quad,quad_err,S, gauss,DE))"
   ]
  },
  {
   "cell_type": "code",
   "execution_count": 30,
   "metadata": {},
   "outputs": [
    {
     "name": "stdout",
     "output_type": "stream",
     "text": [
      "11.6687923001\n"
     ]
    }
   ],
   "source": [
    "def trapezoidal(f,x,n,a,b):\n",
    "    F=(np.delete(f(x),0)+np.delete(f(x),n-1))*(b-a)/(2*(n-1))    \n",
    "    S=np.sum(F)\n",
    "    print(S)\n",
    "\n",
    "a = -2\n",
    "b =  3\n",
    "f=lambda x: x**2\n",
    "n=100\n",
    "x=np.linspace(a, b, n, endpoint=True)\n",
    "\n",
    "trapezoidal(lambda x: x**2,np.linspace(a, b, n, endpoint=True),n,a,b)"
   ]
  },
  {
   "cell_type": "code",
   "execution_count": null,
   "metadata": {
    "collapsed": true
   },
   "outputs": [],
   "source": []
  }
 ],
 "metadata": {
  "kernelspec": {
   "display_name": "Python 3",
   "language": "python",
   "name": "python3"
  },
  "language_info": {
   "codemirror_mode": {
    "name": "ipython",
    "version": 3
   },
   "file_extension": ".py",
   "mimetype": "text/x-python",
   "name": "python",
   "nbconvert_exporter": "python",
   "pygments_lexer": "ipython3",
   "version": "3.6.1"
  }
 },
 "nbformat": 4,
 "nbformat_minor": 2
}
